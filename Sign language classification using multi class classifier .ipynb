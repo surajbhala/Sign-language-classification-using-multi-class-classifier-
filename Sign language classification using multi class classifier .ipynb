{
 "cells": [
  {
   "cell_type": "code",
   "execution_count": 1,
   "metadata": {
    "colab": {},
    "colab_type": "code",
    "id": "wYtuKeK0dImp"
   },
   "outputs": [],
   "source": [
    "\n",
    "\n",
    "import csv\n",
    "import numpy as np\n",
    "import tensorflow as tf\n",
    "from tensorflow.keras.preprocessing.image import ImageDataGenerator\n",
    "from os import getcwd"
   ]
  },
  {
   "cell_type": "code",
   "execution_count": 2,
   "metadata": {
    "colab": {},
    "colab_type": "code",
    "id": "4kxw-_rmcnVu"
   },
   "outputs": [
    {
     "name": "stdout",
     "output_type": "stream",
     "text": [
      "(27455, 28, 28)\n",
      "(27455,)\n",
      "(7172, 28, 28)\n",
      "(7172,)\n"
     ]
    }
   ],
   "source": [
    "def get_data(filename):   \n",
    "    with open(filename) as training_file:\n",
    "        csv_read= csv.reader(training_file)\n",
    "        line_first = True\n",
    "        images_lst = []\n",
    "        labels_lst = []\n",
    "        for row in csv_read:\n",
    "            if line_first:\n",
    "                line_first = False\n",
    "            else:\n",
    "                labels_lst.append(row[0])\n",
    "                image_arr = row[1:785]\n",
    "                image_array = np.array_split(image_arr,28)\n",
    "                images_lst.append(image_array)\n",
    "      # Your code starts here\n",
    "      # Your code ends here\n",
    "        images = np.array(images_lst).astype('float')\n",
    "        labels = np.array(labels_lst).astype('float')\n",
    "    return images, labels\n",
    "\n",
    "path_sign_mnist_train = f\"{getcwd()}/../tmp2/sign_mnist_train.csv\"\n",
    "path_sign_mnist_test = f\"{getcwd()}/../tmp2/sign_mnist_test.csv\"\n",
    "training_images, training_labels = get_data(path_sign_mnist_train)\n",
    "testing_images, testing_labels = get_data(path_sign_mnist_test)\n",
    "\n",
    "# Keep these\n",
    "print(training_images.shape)\n",
    "print(training_labels.shape)\n",
    "print(testing_images.shape)\n",
    "print(testing_labels.shape)\n",
    "\n",
    "# Their output should be:\n",
    "# (27455, 28, 28)\n",
    "# (27455,)\n",
    "# (7172, 28, 28)\n",
    "# (7172,)"
   ]
  },
  {
   "cell_type": "code",
   "execution_count": 3,
   "metadata": {
    "colab": {},
    "colab_type": "code",
    "id": "awoqRpyZdQkD"
   },
   "outputs": [
    {
     "name": "stdout",
     "output_type": "stream",
     "text": [
      "(27455, 28, 28, 1)\n",
      "(7172, 28, 28, 1)\n"
     ]
    }
   ],
   "source": [
    "# In this section you will have to add another dimension to the data\n",
    "# So, for example, if your array is (10000, 28, 28)\n",
    "# You will need to make it (10000, 28, 28, 1)\n",
    "# Hint: np.expand_dims\n",
    "\n",
    "training_images = np.expand_dims(training_images,axis = 3)\n",
    "testing_images = np.expand_dims(testing_images,axis = 3)\n",
    "\n",
    "# Create an ImageDataGenerator and do Image Augmentation\n",
    "train_datagen = ImageDataGenerator(rescale=1/255,\n",
    "                                   rotation_range=20,\n",
    "                                   width_shift_range=0.2,\n",
    "                                   zoom_range=0.20,\n",
    "                                   fill_mode = 'nearest'                                  \n",
    "     )\n",
    "\n",
    "validation_datagen = ImageDataGenerator(rescale=1/255,\n",
    "                                   rotation_range=20,\n",
    "                                   width_shift_range=0.2,\n",
    "                                   zoom_range=0.20,\n",
    "                                   fill_mode = 'nearest'   )   \n",
    "    # Your Code Here)\n",
    "    \n",
    "# Keep These\n",
    "print(training_images.shape)\n",
    "print(testing_images.shape)\n",
    "    \n",
    "# Their output should be:\n",
    "# (27455, 28, 28, 1)\n",
    "# (7172, 28, 28, 1)"
   ]
  },
  {
   "cell_type": "code",
   "execution_count": 4,
   "metadata": {
    "colab": {},
    "colab_type": "code",
    "id": "Rmb7S32cgRqS"
   },
   "outputs": [
    {
     "name": "stdout",
     "output_type": "stream",
     "text": [
      "Epoch 1/15\n",
      "858/857 [==============================] - 95s 110ms/step - loss: 1.8405 - acc: 0.4375 - val_loss: 1.2344 - val_acc: 0.5866\n",
      "Epoch 2/15\n",
      "858/857 [==============================] - 92s 108ms/step - loss: 0.7987 - acc: 0.7423 - val_loss: 0.7589 - val_acc: 0.7454\n",
      "Epoch 3/15\n",
      "858/857 [==============================] - 88s 103ms/step - loss: 0.5185 - acc: 0.8314 - val_loss: 0.5825 - val_acc: 0.8002\n",
      "Epoch 4/15\n",
      "858/857 [==============================] - 91s 106ms/step - loss: 0.3750 - acc: 0.8726 - val_loss: 0.4516 - val_acc: 0.8483\n",
      "Epoch 5/15\n",
      "858/857 [==============================] - 90s 105ms/step - loss: 0.2797 - acc: 0.9085 - val_loss: 0.3708 - val_acc: 0.8780\n",
      "Epoch 6/15\n",
      "858/857 [==============================] - 89s 104ms/step - loss: 0.2322 - acc: 0.9253 - val_loss: 0.3410 - val_acc: 0.8911\n",
      "Epoch 7/15\n",
      "858/857 [==============================] - 90s 105ms/step - loss: 0.1915 - acc: 0.9355 - val_loss: 0.2618 - val_acc: 0.9180\n",
      "Epoch 8/15\n",
      "858/857 [==============================] - 89s 104ms/step - loss: 0.1628 - acc: 0.9454 - val_loss: 0.2993 - val_acc: 0.9017\n",
      "Epoch 9/15\n",
      "858/857 [==============================] - 90s 105ms/step - loss: 0.1377 - acc: 0.9550 - val_loss: 0.2491 - val_acc: 0.9136\n",
      "Epoch 10/15\n",
      "858/857 [==============================] - 94s 110ms/step - loss: 0.1232 - acc: 0.9604 - val_loss: 0.2367 - val_acc: 0.9272\n",
      "Epoch 11/15\n",
      "858/857 [==============================] - 98s 115ms/step - loss: 0.1111 - acc: 0.9631 - val_loss: 0.2545 - val_acc: 0.9236\n",
      "Epoch 12/15\n",
      "858/857 [==============================] - 95s 111ms/step - loss: 0.1051 - acc: 0.9657 - val_loss: 0.2425 - val_acc: 0.9250\n",
      "Epoch 13/15\n",
      "858/857 [==============================] - 89s 104ms/step - loss: 0.0890 - acc: 0.9700 - val_loss: 0.2008 - val_acc: 0.9405\n",
      "Epoch 14/15\n",
      "858/857 [==============================] - 90s 104ms/step - loss: 0.0867 - acc: 0.9713 - val_loss: 0.1943 - val_acc: 0.9439\n",
      "Epoch 15/15\n",
      "858/857 [==============================] - 88s 102ms/step - loss: 0.0818 - acc: 0.9732 - val_loss: 0.1771 - val_acc: 0.9430\n"
     ]
    },
    {
     "data": {
      "text/plain": [
       "[38.51995945127127, 0.9418572]"
      ]
     },
     "execution_count": 4,
     "metadata": {},
     "output_type": "execute_result"
    }
   ],
   "source": [
    "# Define the model\n",
    "# Use no more than 2 Conv2D and 2 MaxPooling2D\n",
    "model = tf.keras.models.Sequential([tf.keras.layers.Conv2D(64,(3,3),activation='relu',input_shape = (28,28,1)),\n",
    "                                    tf.keras.layers.MaxPooling2D(2,2),\n",
    "                                    tf.keras.layers.Conv2D(64,(3,3),activation='relu',input_shape = (28,28,1)),\n",
    "                                    tf.keras.layers.MaxPooling2D(2,2),\n",
    "                                    tf.keras.layers.Flatten(),\n",
    "                                    tf.keras.layers.Dense(128,activation='relu'),\n",
    "                                    tf.keras.layers.Dense(25,activation='softmax')\n",
    "    \n",
    "])\n",
    "\n",
    "# Compile Model. \n",
    "model.compile(optimizer = 'adam',\n",
    "             loss = 'sparse_categorical_crossentropy',\n",
    "             metrics = ['acc'])\n",
    "\n",
    "# Train the Model\n",
    "history = model.fit_generator(train_datagen.flow(training_images,training_labels,batch_size=32),\n",
    "                             steps_per_epoch = len(training_images)/32,\n",
    "                             epochs = 15,\n",
    "                             validation_data = validation_datagen.flow(testing_images,testing_labels,batch_size=32),\n",
    "                             validation_steps=len(testing_images)/32)\n",
    "\n",
    "model.evaluate(testing_images, testing_labels, verbose=0)"
   ]
  },
  {
   "cell_type": "code",
   "execution_count": 5,
   "metadata": {
    "colab": {},
    "colab_type": "code",
    "id": "_Q3Zpr46dsij"
   },
   "outputs": [
    {
     "data": {
      "image/png": "[encoded data removed]",
      "text/plain": [
       "<Figure size 432x288 with 1 Axes>"
      ]
     },
     "metadata": {
      "needs_background": "light"
     },
     "output_type": "display_data"
    },
    {
     "data": {
      "image/png": "[encoded data removed]",
      "text/plain": [
       "<Figure size 432x288 with 1 Axes>"
      ]
     },
     "metadata": {
      "needs_background": "light"
     },
     "output_type": "display_data"
    }
   ],
   "source": [
    "# Plot the chart for accuracy and loss on both training and validation\n",
    "%matplotlib inline\n",
    "import matplotlib.pyplot as plt\n",
    "acc = history.history['acc']\n",
    "val_acc = history.history['val_acc']\n",
    "loss = history.history['loss']\n",
    "val_loss = history.history['val_loss']\n",
    "\n",
    "epochs = range(len(acc))\n",
    "\n",
    "plt.plot(epochs, acc, 'r', label='Training accuracy')\n",
    "plt.plot(epochs, val_acc, 'b', label='Validation accuracy')\n",
    "plt.title('Training and validation accuracy')\n",
    "plt.legend()\n",
    "plt.figure()\n",
    "\n",
    "plt.plot(epochs, loss, 'r', label='Training Loss')\n",
    "plt.plot(epochs, val_loss, 'b', label='Validation Loss')\n",
    "plt.title('Training and validation loss')\n",
    "plt.legend()\n",
    "\n",
    "plt.show()"
   ]
  }
 ],
 "metadata": {
  "colab": {
   "name": "Exercise 8 - Question.ipynb",
   "provenance": []
  },
  "coursera": {
   "course_slug": "convolutional-neural-networks-tensorflow",
   "graded_item_id": "8mIh8",
   "launcher_item_id": "gg95t"
  },
  "kernelspec": {
   "display_name": "Python 3",
   "language": "python",
   "name": "python3"
  },
  "language_info": {
   "codemirror_mode": {
    "name": "ipython",
    "version": 3
   },
   "file_extension": ".py",
   "mimetype": "text/x-python",
   "name": "python",
   "nbconvert_exporter": "python",
   "pygments_lexer": "ipython3",
   "version": "3.7.3"
  }
 },
 "nbformat": 4,
 "nbformat_minor": 1
}
